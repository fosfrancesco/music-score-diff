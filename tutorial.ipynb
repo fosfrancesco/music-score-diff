{
 "cells": [
  {
   "cell_type": "code",
   "execution_count": 1,
   "metadata": {},
   "outputs": [],
   "source": [
    "import music21 as m21\n",
    "from pathlib import Path\n",
    "import lib.score_visualization as sv\n",
    "import lib.m21utils as m21u\n",
    "import lib.NotationLinear as nlin\n",
    "import lib.score_comparison_lib as scl"
   ]
  },
  {
   "cell_type": "markdown",
   "metadata": {},
   "source": [
    "## Obtain the list of differences"
   ]
  },
  {
   "cell_type": "code",
   "execution_count": 2,
   "metadata": {},
   "outputs": [
    {
     "output_type": "execute_result",
     "data": {
      "text/plain": [
       "[{'operation': 'deltuplet',\n",
       "  'reference_score1': ['d1e375'],\n",
       "  'reference_score2': None,\n",
       "  'info': None},\n",
       " {'operation': 'delnote',\n",
       "  'reference_score1': ['d1e356'],\n",
       "  'reference_score2': None,\n",
       "  'info': None},\n",
       " {'operation': 'deltuplet',\n",
       "  'reference_score1': ['d1e335'],\n",
       "  'reference_score2': None,\n",
       "  'info': None},\n",
       " {'operation': 'subbeam',\n",
       "  'reference_score1': ['d1e321'],\n",
       "  'reference_score2': ['d1e358'],\n",
       "  'info': None},\n",
       " {'operation': 'instie',\n",
       "  'reference_score1': None,\n",
       "  'reference_score2': ['d1e339'],\n",
       "  'info': (None, 0)},\n",
       " {'operation': 'deldot',\n",
       "  'reference_score1': ['d1e306'],\n",
       "  'reference_score2': None,\n",
       "  'info': None},\n",
       " {'operation': 'insbeam',\n",
       "  'reference_score1': None,\n",
       "  'reference_score2': ['d1e339'],\n",
       "  'info': None},\n",
       " {'operation': 'insnote',\n",
       "  'reference_score1': None,\n",
       "  'reference_score2': ['d1e322'],\n",
       "  'info': None},\n",
       " {'operation': 'delbar',\n",
       "  'reference_score1': ['d1e578',\n",
       "   'd1e596',\n",
       "   'd1e616',\n",
       "   'd1e634',\n",
       "   'd1e652',\n",
       "   'd1e668',\n",
       "   'd1e684',\n",
       "   'd1e705',\n",
       "   'd1e724'],\n",
       "  'reference_score2': None,\n",
       "  'info': None},\n",
       " {'operation': 'delbar',\n",
       "  'reference_score1': ['d1e748', 'd1e762'],\n",
       "  'reference_score2': None,\n",
       "  'info': None},\n",
       " {'operation': 'insbeam',\n",
       "  'reference_score1': None,\n",
       "  'reference_score2': ['d1e560'],\n",
       "  'info': None},\n",
       " {'operation': 'subbeam',\n",
       "  'reference_score1': ['d1e544'],\n",
       "  'reference_score2': ['d1e544'],\n",
       "  'info': None},\n",
       " {'operation': 'delbeam',\n",
       "  'reference_score1': ['d1e544'],\n",
       "  'reference_score2': None,\n",
       "  'info': None},\n",
       " {'operation': 'delbeam',\n",
       "  'reference_score1': ['d1e526'],\n",
       "  'reference_score2': None,\n",
       "  'info': None},\n",
       " {'operation': 'subpitchname',\n",
       "  'reference_score1': ['d1e474'],\n",
       "  'reference_score2': ['d1e478'],\n",
       "  'info': (0, 0)},\n",
       " {'operation': 'delaccidental',\n",
       "  'reference_score1': ['d1e474'],\n",
       "  'reference_score2': None,\n",
       "  'info': (0, None)}]"
      ]
     },
     "metadata": {},
     "execution_count": 2
    }
   ],
   "source": [
    "#load score1 in music21\n",
    "score1_path = Path(\"test_scores/polyphonic_score_1a.mei\")\n",
    "with open(score1_path, 'r') as f:\n",
    "    mei_string = f.read()\n",
    "    conv = m21.mei.MeiToM21Converter(mei_string)\n",
    "    score1 = conv.run()\n",
    "\n",
    "#load score2 in music21\n",
    "score2_path = Path(\"test_scores/polyphonic_score_1b.mei\")\n",
    "with open(score2_path, 'r') as f:\n",
    "    mei_string = f.read()\n",
    "    conv = m21.mei.MeiToM21Converter(mei_string)\n",
    "    score2 = conv.run()\n",
    "\n",
    "#build the linear representation of the score\n",
    "score_lin1 = nlin.Score(score1)\n",
    "score_lin2 = nlin.Score(score2)\n",
    "\n",
    "#compute the complete score diff\n",
    "op_list, cost=scl.complete_scorelin_diff(score_lin1,score_lin2)\n",
    "#generate the list of annotations in json format\n",
    "operation_json = scl.op_list2json(op_list)\n",
    "operation_json"
   ]
  },
  {
   "cell_type": "markdown",
   "metadata": {},
   "source": [
    "## Display the annotations on the scores"
   ]
  },
  {
   "cell_type": "code",
   "execution_count": 3,
   "metadata": {},
   "outputs": [
    {
     "output_type": "execute_result",
     "data": {
      "text/plain": [
       "True"
      ]
     },
     "metadata": {},
     "execution_count": 3
    }
   ],
   "source": [
    "#load score1 in music21\n",
    "score1_path = Path(\"test_scores/chord_score_3a.mei\")\n",
    "with open(score1_path, 'r') as f:\n",
    "    mei_string = f.read()\n",
    "    conv = m21.mei.MeiToM21Converter(mei_string)\n",
    "    score1 = conv.run()\n",
    "score2_path = Path(\"test_scores/chord_score_3b.mei\")\n",
    "\n",
    "#load score2 in music21\n",
    "with open(score2_path, 'r') as f:\n",
    "    mei_string = f.read()\n",
    "    conv = m21.mei.MeiToM21Converter(mei_string)\n",
    "    score2 = conv.run()\n",
    "\n",
    "#build the linear representation of the Score\n",
    "score_lin1 = nlin.Score(score1)\n",
    "score_lin2 = nlin.Score(score2)\n",
    "\n",
    "#set the correct resourches path. Uncomment if necessary\n",
    "# sv.setResourchesPath(Path(\"C:/Users/fosca/Desktop/verovio/data\" ))\n",
    "\n",
    "#compute the list of differences\n",
    "op_list, cost=scl.complete_scorelin_diff(score_lin1,score_lin2)\n",
    "#compute the annotations for the two scores\n",
    "ann1, ann2 = sv.oplist2annotations(op_list)\n",
    "#display the annotations on the scores (color the involved elements)\n",
    "sv.produce_annnot_svg(score1_path,ann1,out_path=Path(\"output/test1.svg\"))\n",
    "sv.produce_annnot_svg(score2_path,ann2,out_path=Path(\"output/test2.svg\"))"
   ]
  },
  {
   "cell_type": "code",
   "execution_count": null,
   "metadata": {},
   "outputs": [],
   "source": []
  }
 ],
 "metadata": {
  "file_extension": ".py",
  "kernelspec": {
   "name": "python377jvsc74a57bd0026d29534bbf2a94953c2fa95040253aaa49038ae772501eb71cde604d8881b3",
   "display_name": "Python 3.7.7 64-bit ('mir_research': conda)"
  },
  "language_info": {
   "codemirror_mode": {
    "name": "ipython",
    "version": 3
   },
   "file_extension": ".py",
   "mimetype": "text/x-python",
   "name": "python",
   "nbconvert_exporter": "python",
   "pygments_lexer": "ipython3",
   "version": "3.7.7"
  },
  "mimetype": "text/x-python",
  "name": "python",
  "npconvert_exporter": "python",
  "pygments_lexer": "ipython3",
  "toc": {
   "base_numbering": 1,
   "nav_menu": {},
   "number_sections": true,
   "sideBar": true,
   "skip_h1_title": false,
   "title_cell": "Table of Contents",
   "title_sidebar": "Contents",
   "toc_cell": false,
   "toc_position": {},
   "toc_section_display": true,
   "toc_window_display": false
  },
  "varInspector": {
   "cols": {
    "lenName": 16,
    "lenType": 16,
    "lenVar": 40
   },
   "kernels_config": {
    "python": {
     "delete_cmd_postfix": "",
     "delete_cmd_prefix": "del ",
     "library": "var_list.py",
     "varRefreshCmd": "print(var_dic_list())"
    },
    "r": {
     "delete_cmd_postfix": ") ",
     "delete_cmd_prefix": "rm(",
     "library": "var_list.r",
     "varRefreshCmd": "cat(var_dic_list()) "
    }
   },
   "types_to_exclude": [
    "module",
    "function",
    "builtin_function_or_method",
    "instance",
    "_Feature"
   ],
   "window_display": false
  },
  "version": 3
 },
 "nbformat": 4,
 "nbformat_minor": 2
}