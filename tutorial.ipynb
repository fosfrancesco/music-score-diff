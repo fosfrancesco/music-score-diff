{
 "nbformat": 4,
 "nbformat_minor": 2,
 "metadata": {
  "language_info": {
   "name": "python",
   "codemirror_mode": {
    "name": "ipython",
    "version": 3
   },
   "version": "3.6.3"
  },
  "orig_nbformat": 2,
  "file_extension": ".py",
  "mimetype": "text/x-python",
  "name": "python",
  "npconvert_exporter": "python",
  "pygments_lexer": "ipython3",
  "version": 3
 },
 "cells": [
  {
   "cell_type": "markdown",
   "execution_count": null,
   "metadata": {},
   "outputs": [],
   "source": [
    "# Music score diff\n",
    "Computation and visualization of the differences between 2 scores in MEI format.\n",
    "\n",
    "The supported differences are:\n",
    "\n",
    "1. Bar level:\n",
    "- \"insbar\": bar insertion \n",
    "- \"delbar\": bar deletion\n",
    "2. Voice level:\n",
    "- \"insvoice\": voice insertion\n",
    "- \"delvoice\": voice deletion\n",
    "3. General-note level:\n",
    "- \"insnote\" : general-note insertion\n",
    "- \"delnote\" : general-note deletion\n",
    "- \"subhead\" : head substitution (e.g. a white note becoming a black note)\n",
    "4. Pitch level:\n",
    "- \"inspitch\" : pitch insetion (e.g. a 2-note chord that become a 3-note chord)\n",
    "- \"delpitch\" : pitch deletion\n",
    "- \"subpitchnam\" : substitution of the pitch name (e.g. a G3 that become a F3)\n",
    "- \"insaccidental\" : accidental insertion\n",
    "- \"delaccidental\" : accidental deletion\n",
    "- \"subaccidental\" : accidental substitution\n",
    "- \"insdot\" : dot insertion\n",
    "- \"deldot\" : dot deletion\n",
    "- \"instie\" : tie insertion\n",
    "- \"deltie\": tie deletion\n",
    "5. Beam level:\n",
    "- \"insbeam\" : beam insertion\n",
    "- \"delbeam\" : beam deletion\n",
    "- \"subbeam\" : beam substitution (e.g. a \"continue\" beam with a \"end\" beam) \n",
    "6. Tuplet level: \n",
    "- \"instuplet\" : tuplet insertion\n",
    "- \"deltuplet\" : tuplet deletion\n",
    "- \"subtuplet\" : tuplet substitution (e.g. a \"continue\" tuplet with a \"end\" beam) \n",
    "\n"
   ]
  },
  {
   "cell_type": "code",
   "execution_count": 1,
   "metadata": {},
   "outputs": [],
   "source": [
    "import music21 as m21\n",
    "from pathlib import Path\n",
    "import lib.score_visualization as sv\n",
    "import lib.m21utils as m21u\n",
    "import lib.NotationLinear as nlin\n",
    "import lib.score_comparison_lib as scl\n",
    "\n",
    "from IPython.display import SVG, display"
   ]
  },
  {
   "cell_type": "markdown",
   "execution_count": null,
   "metadata": {},
   "outputs": [],
   "source": [
    "## Obtain the list of differences"
   ]
  },
  {
   "cell_type": "code",
   "execution_count": 3,
   "metadata": {},
   "outputs": [
    {
     "data": {
      "text/plain": "[{'info': None,\n  'operation': 'delbar',\n  'reference_score1': ['d1e578',\n   'd1e596',\n   'd1e616',\n   'd1e634',\n   'd1e652',\n   'd1e668',\n   'd1e684',\n   'd1e705',\n   'd1e724'],\n  'reference_score2': None},\n {'info': None,\n  'operation': 'deltuplet',\n  'reference_score1': ['d1e375'],\n  'reference_score2': None},\n {'info': None,\n  'operation': 'delnote',\n  'reference_score1': ['d1e356'],\n  'reference_score2': None},\n {'info': None,\n  'operation': 'deltuplet',\n  'reference_score1': ['d1e684'],\n  'reference_score2': None},\n {'info': None,\n  'operation': 'subbeam',\n  'reference_score1': ['d1e321'],\n  'reference_score2': ['d1e358']},\n {'info': (None, 0),\n  'operation': 'instie',\n  'reference_score1': None,\n  'reference_score2': ['d1e339']},\n {'info': None,\n  'operation': 'deldot',\n  'reference_score1': ['d1e306'],\n  'reference_score2': None},\n {'info': None,\n  'operation': 'insbeam',\n  'reference_score1': None,\n  'reference_score2': ['d1e339']},\n {'info': None,\n  'operation': 'insnote',\n  'reference_score1': None,\n  'reference_score2': ['d1e322']},\n {'info': None,\n  'operation': 'delbar',\n  'reference_score1': ['d1e748', 'd1e762'],\n  'reference_score2': None},\n {'info': None,\n  'operation': 'insbeam',\n  'reference_score1': None,\n  'reference_score2': ['d1e560']},\n {'info': None,\n  'operation': 'subbeam',\n  'reference_score1': ['d1e544'],\n  'reference_score2': ['d1e544']},\n {'info': None,\n  'operation': 'delbeam',\n  'reference_score1': ['d1e544'],\n  'reference_score2': None},\n {'info': None,\n  'operation': 'delbeam',\n  'reference_score1': ['d1e526'],\n  'reference_score2': None},\n {'info': (0, 0),\n  'operation': 'subpitchname',\n  'reference_score1': ['d1e508'],\n  'reference_score2': ['d1e478']},\n {'info': (0, None),\n  'operation': 'delaccidental',\n  'reference_score1': ['d1e508'],\n  'reference_score2': None}]"
     },
     "execution_count": 3,
     "metadata": {},
     "output_type": "execute_result"
    }
   ],
   "source": [
    "#load score1 in music21\n",
    "score1_path = Path(\"test_scores/polyphonic_score_1a.mei\")\n",
    "with open(score1_path, 'r') as f:\n",
    "    mei_string = f.read()\n",
    "    conv = m21.mei.MeiToM21Converter(mei_string)\n",
    "    score1 = conv.run()\n",
    "\n",
    "#load score2 in music21\n",
    "score2_path = Path(\"test_scores/polyphonic_score_1b.mei\")\n",
    "with open(score2_path, 'r') as f:\n",
    "    mei_string = f.read()\n",
    "    conv = m21.mei.MeiToM21Converter(mei_string)\n",
    "    score2 = conv.run()\n",
    "\n",
    "#build the linear representation of the score\n",
    "score_lin1 = nlin.ScoreLinear(score1)\n",
    "score_lin2 = nlin.ScoreLinear(score2)\n",
    "\n",
    "#compute the complete score diff\n",
    "op_list, cost=scl.complete_scorelin_diff(score_lin1,score_lin2)\n",
    "#generate the list of annotations in json format\n",
    "operation_json = scl.op_list2json(op_list)\n",
    "operation_json"
   ]
  },
  {
   "cell_type": "markdown",
   "execution_count": null,
   "metadata": {},
   "outputs": [],
   "source": [
    "## Display the annotations on the scores"
   ]
  },
  {
   "cell_type": "code",
   "execution_count": 5,
   "metadata": {},
   "outputs": [
    {
     "data": {
      "text/plain": "True"
     },
     "execution_count": 5,
     "metadata": {},
     "output_type": "execute_result"
    }
   ],
   "source": [
    "#load score1 in music21\n",
    "score1_path = Path(\"test_scores/polyphonic_score_1a.mei\")\n",
    "with open(score1_path, 'r') as f:\n",
    "    mei_string = f.read()\n",
    "    conv = m21.mei.MeiToM21Converter(mei_string)\n",
    "    score1 = conv.run()\n",
    "score2_path = Path(\"test_scores/polyphonic_score_1b.mei\")\n",
    "\n",
    "#load score2 in music21\n",
    "with open(score2_path, 'r') as f:\n",
    "    mei_string = f.read()\n",
    "    conv = m21.mei.MeiToM21Converter(mei_string)\n",
    "    score2 = conv.run()\n",
    "\n",
    "#build the linear representation of the Score\n",
    "score_lin1 = nlin.ScoreLinear(score1)\n",
    "score_lin2 = nlin.ScoreLinear(score2)\n",
    "\n",
    "#compute the list of differences\n",
    "op_list, cost=scl.complete_scorelin_diff(score_lin1,score_lin2)\n",
    "#compute the annotations for the two scores\n",
    "ann1, ann2 = sv.oplist2annotations(op_list)\n",
    "#display the annotations on the scores (color the involved elements)\n",
    "sv.produce_annnot_svg(score1_path,ann1,out_path=Path(\"output/polyphonic_score_1a.svg\"))\n",
    "sv.produce_annnot_svg(score2_path,ann2,out_path=Path(\"output/polyphonic_score_1b.svg\"))"
   ]
  },
  {
   "cell_type": "code",
   "execution_count": null,
   "metadata": {},
   "outputs": [],
   "source": [
    "#show score 1"
   ]
  }
 ]
}