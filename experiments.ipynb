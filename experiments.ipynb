{
 "cells": [
  {
   "cell_type": "code",
   "execution_count": 1,
   "metadata": {},
   "outputs": [
    {
     "output_type": "stream",
     "name": "stderr",
     "text": [
      "music21: Certain music21 functions might need the optional package matplotlib;\n                  if you run into errors, install it by following the instructions at\n                  http://mit.edu/music21/doc/installing/installAdditional.html\n"
     ]
    }
   ],
   "source": [
    "import lib.NotationLinear as nlin\n",
    "import lib.score_comparison_lib as scl\n",
    "import importlib\n",
    "\n",
    "import music21 as m21\n",
    "from pathlib import Path"
   ]
  },
  {
   "cell_type": "code",
   "execution_count": 2,
   "metadata": {},
   "outputs": [],
   "source": [
    "score1_path = Path(\"test_scores/musicxml/longHaydn_a.musicxml\")\n",
    "score1 = m21.converter.parse(str(score1_path))\n",
    "score2_path = Path(\"test_scores/musicxml/longHaydn_b.musicxml\")\n",
    "score2 = m21.converter.parse(str(score2_path))\n",
    "# build ScoreTrees\n",
    "score_lin1 = nlin.Score(score1)\n",
    "score_lin2 = nlin.Score(score2)"
   ]
  },
  {
   "cell_type": "code",
   "execution_count": 3,
   "metadata": {},
   "outputs": [
    {
     "output_type": "execute_result",
     "data": {
      "text/plain": [
       "[{'original': [0], 'compare_to': []}, {'original': [2], 'compare_to': [1]}]"
      ]
     },
     "metadata": {},
     "execution_count": 3
    }
   ],
   "source": [
    "importlib.reload(scl)\n",
    "# compute the non common_subsequences for part 0\n",
    "scl.non_common_subsequences_myers([[0,0],[1,1],[2,2],[3,3]],[[1,1],[1,1],[3,3]])"
   ]
  },
  {
   "cell_type": "code",
   "execution_count": 8,
   "metadata": {},
   "outputs": [
    {
     "output_type": "stream",
     "name": "stdout",
     "text": [
      "About to compute LCS for sequences of length 521 521\n[{'original': [[[[('G5', 'None', False)],4,0,[],[],2008959198256,[],[], [('D5', 'None', False)],4,0,[],[],2008959198400,[],[], [('R', 'None', False)],4,0,[],[],2008959198544,[],[], [('D5', 'None', False)],4,0,['start', 'start'],[],2008959198592,[],[], [('C5', 'None', False)],4,0,['continue', 'continue'],[],2008959198784,[],[], [('B4', 'None', False)],4,0,['continue', 'continue'],[],2008959198976,[],[], [('A4', 'None', False)],4,0,['stop', 'stop'],[],2008959199168,[],[]]]], 'compare_to': [[[[('G5', 'None', False)],4,0,[],[],2009020743632,[],[], [('D5', 'None', False)],4,0,[],[],2009020741616,[],[], [('R', 'None', False)],4,0,[],[],2009020740656,[],[], [('D5', 'sharp', False)],4,0,['start', 'start'],[],2009020739648,[],[], [('C5', 'None', False)],4,0,['continue', 'continue'],[],2009020742384,[],[], [('B4', 'None', False)],4,0,['continue', 'continue'],[],2009020741328,[],[], [('A4', 'None', False)],4,0,['stop', 'stop'],[],2009020739936,[],[]]]]}, {'original': [[[[('C5', 'sharp', False), ('G5', 'None', False)],4,0,[],[],2008959672384,['staccatissimo'],[], [('D5', 'None', False), ('F5', 'None', False)],4,0,[],[],2008959672816,['staccatissimo'],[], [('R', 'None', False)],2,0,[],[],2008959673248,[],[]]]], 'compare_to': [[[[('C5', 'sharp', False), ('G5', 'None', False)],4,0,[],[],2009019655648,[],[], [('D5', 'None', False), ('F5', 'None', False)],4,0,[],[],2009019566064,['staccatissimo'],[], [('R', 'None', False)],2,0,[],[],2009014430880,[],[]]]]}]\nWall time: 2 ms\n"
     ]
    }
   ],
   "source": [
    "%%time\n",
    "# compute the non common_subsequences for part 0\n",
    "part = 0\n",
    "length = -1\n",
    "seq1 = score_lin1.part_list[part].bar_list[:length]\n",
    "seq2 = score_lin2.part_list[part].bar_list[:length]\n",
    "print(\"About to compute LCS for sequences of length\", len(seq1), len(seq2))\n",
    "non_common_subsequences = scl.non_common_subsequences_of_measures(\n",
    "    seq1, seq2\n",
    ")\n",
    "print(non_common_subsequences)"
   ]
  },
  {
   "cell_type": "code",
   "execution_count": 8,
   "metadata": {},
   "outputs": [
    {
     "output_type": "execute_result",
     "data": {
      "text/plain": [
       "[{'original': [[[[('G5', 'None', False)],4,0,[],[],3126091008464,[],[], [('D5', 'None', False)],4,0,[],[],3126091008608,[],[], [('R', 'None', False)],4,0,[],[],3126091008752,[],[], [('D5', 'None', False)],4,0,['start', 'start'],[],3126091008800,[],[], [('C5', 'None', False)],4,0,['continue', 'continue'],[],3126091008992,[],[], [('B4', 'None', False)],4,0,['continue', 'continue'],[],3126091009184,[],[], [('A4', 'None', False)],4,0,['stop', 'stop'],[],3126091009376,[],[]]]],\n",
       "  'compare_to': [[[[('G5', 'None', False)],4,0,[],[],3126153285584,[],[], [('D5', 'None', False)],4,0,[],[],3126153223904,[],[], [('R', 'None', False)],4,0,[],[],3126153222896,[],[], [('D5', 'sharp', False)],4,0,['start', 'start'],[],3126153222848,[],[], [('C5', 'None', False)],4,0,['continue', 'continue'],[],3126153221456,[],[], [('B4', 'None', False)],4,0,['continue', 'continue'],[],3126153222176,[],[], [('A4', 'None', False)],4,0,['stop', 'stop'],[],3126153166560,[],[]]]]}]"
      ]
     },
     "metadata": {},
     "execution_count": 8
    }
   ],
   "source": [
    "non_common_subsequences"
   ]
  },
  {
   "cell_type": "code",
   "execution_count": 28,
   "metadata": {},
   "outputs": [
    {
     "data": {
      "text/plain": [
       "4496846402853166584"
      ]
     },
     "execution_count": 28,
     "metadata": {},
     "output_type": "execute_result"
    }
   ],
   "source": []
  },
  {
   "cell_type": "code",
   "execution_count": 13,
   "metadata": {},
   "outputs": [
    {
     "output_type": "execute_result",
     "data": {
      "text/plain": [
       "array([[1, 2],\n",
       "       [3, 4]])"
      ]
     },
     "metadata": {},
     "execution_count": 13
    }
   ],
   "source": [
    "import numpy as np\n",
    "np.array([[1,2],[3,4]])"
   ]
  },
  {
   "cell_type": "code",
   "execution_count": 17,
   "metadata": {},
   "outputs": [
    {
     "output_type": "execute_result",
     "data": {
      "text/plain": [
       "3"
      ]
     },
     "metadata": {},
     "execution_count": 17
    }
   ],
   "source": [
    "a = np.array([[1,2],[3,4],[5,6]])\n",
    "len(a)"
   ]
  },
  {
   "cell_type": "code",
   "execution_count": 20,
   "metadata": {},
   "outputs": [],
   "source": [
    "from collections import namedtuple\n",
    "import sys\n",
    "\n",
    "\n",
    "# See frontier in myers_diff\n",
    "Frontier = namedtuple('Frontier', ['x', 'history'])\n",
    "\n",
    "def myers_diff(a_lines, b_lines):\n",
    "    \"\"\"\n",
    "    An implementation of the Myers diff algorithm.\n",
    "    See http://www.xmailserver.org/diff2.pdf\n",
    "    \"\"\"\n",
    "    # This marks the farthest-right point along each diagonal in the edit\n",
    "    # graph, along with the history that got it there\n",
    "    frontier = {1: Frontier(0, [])}\n",
    "\n",
    "    def one(idx):\n",
    "        \"\"\"\n",
    "        The algorithm Myers presents is 1-indexed; since Python isn't, we\n",
    "        need a conversion.\n",
    "        \"\"\"\n",
    "        return idx - 1\n",
    "\n",
    "    a_max = len(a_lines)\n",
    "    b_max = len(b_lines)\n",
    "    for d in range(0, a_max + b_max + 1):\n",
    "        for k in range(-d, d + 1, 2):\n",
    "            # This determines whether our next search point will be going down\n",
    "            # in the edit graph, or to the right.\n",
    "            #\n",
    "            # The intuition for this is that we should go down if we're on the\n",
    "            # left edge (k == -d) to make sure that the left edge is fully\n",
    "            # explored.\n",
    "            #\n",
    "            # If we aren't on the top (k != d), then only go down if going down\n",
    "            # would take us to territory that hasn't sufficiently been explored\n",
    "            # yet.\n",
    "            go_down = (k == -d or \n",
    "                    (k != d and frontier[k - 1].x < frontier[k + 1].x))\n",
    "\n",
    "            # Figure out the starting point of this iteration. The diagonal\n",
    "            # offsets come from the geometry of the edit grid - if you're going\n",
    "            # down, your diagonal is lower, and if you're going right, your\n",
    "            # diagonal is higher.\n",
    "            if go_down:\n",
    "                old_x, history = frontier[k + 1]\n",
    "                x = old_x\n",
    "            else:\n",
    "                old_x, history = frontier[k - 1]\n",
    "                x = old_x + 1\n",
    "\n",
    "            # We want to avoid modifying the old history, since some other step\n",
    "            # may decide to use it.\n",
    "            history = history[:]\n",
    "            y = x - k\n",
    "\n",
    "            # We start at the invalid point (0, 0) - we should only start building\n",
    "            # up history when we move off of it.\n",
    "            if 1 <= y <= b_max and go_down:\n",
    "                history.append((\"Insert\",b_lines[one(y)]))\n",
    "            elif 1 <= x <= a_max:\n",
    "                history.append((\"Remove\",a_lines[one(x)]))\n",
    "\n",
    "            # Chew up as many diagonal moves as we can - these correspond to common lines,\n",
    "            # and they're considered \"free\" by the algorithm because we want to maximize\n",
    "            # the number of these in the output.\n",
    "            while x < a_max and y < b_max and a_lines[one(x + 1)] == b_lines[one(y + 1)]:\n",
    "                x += 1\n",
    "                y += 1\n",
    "                history.append((\"Keep\",a_lines[one(x)]))\n",
    "\n",
    "            if x >= a_max and y >= b_max:\n",
    "                # If we're here, then we've traversed through the bottom-left corner,\n",
    "                # and are done.\n",
    "                return history\n",
    "            else:\n",
    "                frontier[k] = Frontier(x, history)\n",
    "\n",
    "    assert False, 'Could not find edit script'"
   ]
  },
  {
   "cell_type": "code",
   "execution_count": 24,
   "metadata": {},
   "outputs": [
    {
     "output_type": "execute_result",
     "data": {
      "text/plain": [
       "('Remove', [1, 1])"
      ]
     },
     "metadata": {},
     "execution_count": 24
    }
   ],
   "source": [
    "out = myers_diff([[1,1],[2,2],[4,4],[7,7],[7,7]], [[2,2],[3,3],[4,4],[5,5]])\n",
    "out[0]"
   ]
  },
  {
   "cell_type": "code",
   "execution_count": 15,
   "metadata": {},
   "outputs": [],
   "source": []
  },
  {
   "cell_type": "code",
   "execution_count": 16,
   "metadata": {},
   "outputs": [
    {
     "output_type": "execute_result",
     "data": {
      "text/plain": [
       "[(0, 1, 0, 0), (2, 0, 1, 1), (3, 4, 3, 1)]"
      ]
     },
     "metadata": {},
     "execution_count": 16
    }
   ],
   "source": [
    "diff([1,2,4,7,7,7,4], [2,3,4,5])"
   ]
  },
  {
   "cell_type": "code",
   "execution_count": null,
   "metadata": {},
   "outputs": [],
   "source": []
  }
 ],
 "metadata": {
  "kernelspec": {
   "name": "python3810jvsc74a57bd00dd71e44a40e3bff9e2fa73414ec8f9a1ed4bbd004313799300ef7fd50845337",
   "display_name": "Python 3.8.10 64-bit ('score-diff': conda)"
  },
  "language_info": {
   "codemirror_mode": {
    "name": "ipython",
    "version": 3
   },
   "file_extension": ".py",
   "mimetype": "text/x-python",
   "name": "python",
   "nbconvert_exporter": "python",
   "pygments_lexer": "ipython3",
   "version": "3.8.10"
  },
  "metadata": {
   "interpreter": {
    "hash": "0dd71e44a40e3bff9e2fa73414ec8f9a1ed4bbd004313799300ef7fd50845337"
   }
  }
 },
 "nbformat": 4,
 "nbformat_minor": 2
}