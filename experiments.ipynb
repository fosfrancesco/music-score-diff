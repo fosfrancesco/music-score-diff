{
 "metadata": {
  "language_info": {
   "codemirror_mode": {
    "name": "ipython",
    "version": 3
   },
   "file_extension": ".py",
   "mimetype": "text/x-python",
   "name": "python",
   "nbconvert_exporter": "python",
   "pygments_lexer": "ipython3",
   "version": "3.7.7"
  },
  "orig_nbformat": 2,
  "kernelspec": {
   "name": "python377jvsc74a57bd0026d29534bbf2a94953c2fa95040253aaa49038ae772501eb71cde604d8881b3",
   "display_name": "Python 3.7.7 64-bit ('mir_research': conda)"
  }
 },
 "nbformat": 4,
 "nbformat_minor": 2,
 "cells": [
  {
   "cell_type": "code",
   "execution_count": 1,
   "metadata": {},
   "outputs": [],
   "source": [
    "import lib.NotationLinear as nlin\n",
    "import lib.score_comparison_lib as scl\n",
    "\n",
    "import music21 as m21\n",
    "from pathlib import Path"
   ]
  },
  {
   "cell_type": "code",
   "execution_count": 2,
   "metadata": {},
   "outputs": [],
   "source": [
    "score1_path = Path(\"test_scores/musicxml/longHaydn_a.musicxml\")\n",
    "score1 = m21.converter.parse(str(score1_path))\n",
    "score2_path = Path(\"test_scores/musicxml/longHaydn_b.musicxml\")\n",
    "score2 = m21.converter.parse(str(score2_path))\n",
    "# build ScoreTrees\n",
    "score_lin1 = nlin.Score(score1)\n",
    "score_lin2 = nlin.Score(score2)"
   ]
  },
  {
   "cell_type": "code",
   "execution_count": 3,
   "metadata": {},
   "outputs": [
    {
     "output_type": "stream",
     "name": "stdout",
     "text": [
      "About to compute LCS for sequences of length 50 50\n",
      "[{'original': [[[[('G5', 'None', False)],4,0,[],[],[],[], [('D5', 'None', False)],4,0,[],[],[],[], [('R', 'None', False)],4,0,[],[],[],[], [('D5', 'None', False)],4,0,['start', 'start'],[],[],[], [('C5', 'None', False)],4,0,['continue', 'continue'],[],[],[], [('B4', 'None', False)],4,0,['continue', 'continue'],[],[],[], [('A4', 'None', False)],4,0,['stop', 'stop'],[],[],[]]]], 'compare_to': [[[[('G5', 'None', False)],4,0,[],[],[],[], [('D5', 'None', False)],4,0,[],[],[],[], [('R', 'None', False)],4,0,[],[],[],[], [('D5', 'sharp', False)],4,0,['start', 'start'],[],[],[], [('C5', 'None', False)],4,0,['continue', 'continue'],[],[],[], [('B4', 'None', False)],4,0,['continue', 'continue'],[],[],[], [('A4', 'None', False)],4,0,['stop', 'stop'],[],[],[]]]]}, {'original': [[[[('C5', 'sharp', False), ('G5', 'None', False)],4,0,[],[],['staccatissimo'],[], [('D5', 'None', False), ('F5', 'None', False)],4,0,[],[],['staccatissimo'],[], [('R', 'None', False)],2,0,[],[],[],[]]]], 'compare_to': [[[[('C5', 'sharp', False), ('G5', 'None', False)],4,0,[],[],[],[], [('D5', 'None', False), ('F5', 'None', False)],4,0,[],[],['staccatissimo'],[], [('R', 'None', False)],2,0,[],[],[],[]]]]}]\n",
      "Wall time: 1min 4s\n"
     ]
    }
   ],
   "source": [
    "%%time\n",
    "# compute the non common_subsequences for part 0\n",
    "part = 0\n",
    "seq1 = score_lin1.part_list[part].bar_list[:50]\n",
    "seq2 = score_lin2.part_list[part].bar_list[:50]\n",
    "print(\"About to compute LCS for sequences of length\", len(seq1), len(seq2))\n",
    "non_common_subsequences = scl.non_common_subsequences(\n",
    "    seq1, seq2\n",
    ")\n",
    "print(non_common_subsequences)"
   ]
  },
  {
   "cell_type": "code",
   "execution_count": 16,
   "metadata": {},
   "outputs": [
    {
     "output_type": "execute_result",
     "data": {
      "text/plain": [
       "[]"
      ]
     },
     "metadata": {},
     "execution_count": 16
    }
   ],
   "source": [
    "non_common_subsequences"
   ]
  },
  {
   "cell_type": "code",
   "execution_count": 28,
   "metadata": {},
   "outputs": [
    {
     "output_type": "execute_result",
     "data": {
      "text/plain": [
       "4496846402853166584"
      ]
     },
     "metadata": {},
     "execution_count": 28
    }
   ],
   "source": []
  }
 ]
}