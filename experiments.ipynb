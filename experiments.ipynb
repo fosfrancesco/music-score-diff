{
 "cells": [
  {
   "cell_type": "code",
   "execution_count": 1,
   "metadata": {},
   "outputs": [
    {
     "output_type": "stream",
     "name": "stderr",
     "text": [
      "music21: Certain music21 functions might need the optional package matplotlib;\n                  if you run into errors, install it by following the instructions at\n                  http://mit.edu/music21/doc/installing/installAdditional.html\n"
     ]
    }
   ],
   "source": [
    "import lib.NotationLinear as nlin\n",
    "import lib.score_comparison_lib as scl\n",
    "import importlib\n",
    "\n",
    "import music21 as m21\n",
    "from pathlib import Path"
   ]
  },
  {
   "cell_type": "code",
   "execution_count": 2,
   "metadata": {},
   "outputs": [],
   "source": [
    "score1_path = Path(\"test_scores/musicxml/longHaydn_a.musicxml\")\n",
    "score1 = m21.converter.parse(str(score1_path))\n",
    "score2_path = Path(\"test_scores/musicxml/longHaydn_b.musicxml\")\n",
    "score2 = m21.converter.parse(str(score2_path))\n",
    "# build ScoreTrees\n",
    "score_lin1 = nlin.Score(score1)\n",
    "score_lin2 = nlin.Score(score2)"
   ]
  },
  {
   "cell_type": "code",
   "execution_count": 4,
   "metadata": {},
   "outputs": [
    {
     "output_type": "execute_result",
     "data": {
      "text/plain": [
       "[{'original': [0], 'compare_to': [1]}, {'original': [2], 'compare_to': []}]"
      ]
     },
     "metadata": {},
     "execution_count": 4
    }
   ],
   "source": [
    "importlib.reload(scl)\n",
    "# compute the non common_subsequences for part 0\n",
    "scl.non_common_subsequences([[0,0],[1,1],[2,2],[3,3]],[[1,1],[1,1],[3,3]])"
   ]
  },
  {
   "cell_type": "code",
   "execution_count": 7,
   "metadata": {},
   "outputs": [
    {
     "output_type": "stream",
     "name": "stdout",
     "text": [
      "About to compute LCS for sequences of length 35 35\n[{'original': [[[[('G5', 'None', False)],4,0,[],[],2218081748928,[],[], [('D5', 'None', False)],4,0,[],[],2218081749072,[],[], [('R', 'None', False)],4,0,[],[],2218081749216,[],[], [('D5', 'None', False)],4,0,['start', 'start'],[],2218081749264,[],[], [('C5', 'None', False)],4,0,['continue', 'continue'],[],2218081749456,[],[], [('B4', 'None', False)],4,0,['continue', 'continue'],[],2218081749648,[],[], [('A4', 'None', False)],4,0,['stop', 'stop'],[],2218081749840,[],[]]]], 'compare_to': [[[[('G5', 'None', False)],4,0,[],[],2218143362784,[],[], [('D5', 'None', False)],4,0,[],[],2218143361776,[],[], [('R', 'None', False)],4,0,[],[],2218143360768,[],[], [('D5', 'sharp', False)],4,0,['start', 'start'],[],2218143360720,[],[], [('C5', 'None', False)],4,0,['continue', 'continue'],[],2218143359328,[],[], [('B4', 'None', False)],4,0,['continue', 'continue'],[],2218143299568,[],[], [('A4', 'None', False)],4,0,['stop', 'stop'],[],2218143297600,[],[]]]]}]\nWall time: 14.1 s\n"
     ]
    }
   ],
   "source": [
    "%%time\n",
    "# compute the non common_subsequences for part 0\n",
    "part = 0\n",
    "length = 35\n",
    "seq1 = score_lin1.part_list[part].bar_list[:length]\n",
    "seq2 = score_lin2.part_list[part].bar_list[:length]\n",
    "print(\"About to compute LCS for sequences of length\", len(seq1), len(seq2))\n",
    "non_common_subsequences = scl.non_common_subsequences_of_measures(\n",
    "    seq1, seq2\n",
    ")\n",
    "print(non_common_subsequences)"
   ]
  },
  {
   "cell_type": "code",
   "execution_count": 8,
   "metadata": {},
   "outputs": [
    {
     "output_type": "execute_result",
     "data": {
      "text/plain": [
       "[{'original': [[[[('G5', 'None', False)],4,0,[],[],3126091008464,[],[], [('D5', 'None', False)],4,0,[],[],3126091008608,[],[], [('R', 'None', False)],4,0,[],[],3126091008752,[],[], [('D5', 'None', False)],4,0,['start', 'start'],[],3126091008800,[],[], [('C5', 'None', False)],4,0,['continue', 'continue'],[],3126091008992,[],[], [('B4', 'None', False)],4,0,['continue', 'continue'],[],3126091009184,[],[], [('A4', 'None', False)],4,0,['stop', 'stop'],[],3126091009376,[],[]]]],\n",
       "  'compare_to': [[[[('G5', 'None', False)],4,0,[],[],3126153285584,[],[], [('D5', 'None', False)],4,0,[],[],3126153223904,[],[], [('R', 'None', False)],4,0,[],[],3126153222896,[],[], [('D5', 'sharp', False)],4,0,['start', 'start'],[],3126153222848,[],[], [('C5', 'None', False)],4,0,['continue', 'continue'],[],3126153221456,[],[], [('B4', 'None', False)],4,0,['continue', 'continue'],[],3126153222176,[],[], [('A4', 'None', False)],4,0,['stop', 'stop'],[],3126153166560,[],[]]]]}]"
      ]
     },
     "metadata": {},
     "execution_count": 8
    }
   ],
   "source": [
    "non_common_subsequences"
   ]
  },
  {
   "cell_type": "code",
   "execution_count": 28,
   "metadata": {},
   "outputs": [
    {
     "data": {
      "text/plain": [
       "4496846402853166584"
      ]
     },
     "execution_count": 28,
     "metadata": {},
     "output_type": "execute_result"
    }
   ],
   "source": []
  },
  {
   "cell_type": "code",
   "execution_count": 13,
   "metadata": {},
   "outputs": [
    {
     "output_type": "execute_result",
     "data": {
      "text/plain": [
       "array([[1, 2],\n",
       "       [3, 4]])"
      ]
     },
     "metadata": {},
     "execution_count": 13
    }
   ],
   "source": [
    "import numpy as np\n",
    "np.array([[1,2],[3,4]])"
   ]
  },
  {
   "cell_type": "code",
   "execution_count": 17,
   "metadata": {},
   "outputs": [
    {
     "output_type": "execute_result",
     "data": {
      "text/plain": [
       "3"
      ]
     },
     "metadata": {},
     "execution_count": 17
    }
   ],
   "source": [
    "a = np.array([[1,2],[3,4],[5,6]])\n",
    "len(a)"
   ]
  },
  {
   "cell_type": "code",
   "execution_count": 29,
   "metadata": {},
   "outputs": [
    {
     "output_type": "execute_result",
     "data": {
      "text/plain": [
       "numpy.int32"
      ]
     },
     "metadata": {},
     "execution_count": 29
    }
   ],
   "source": [
    "type(a[0][0])"
   ]
  }
 ],
 "metadata": {
  "kernelspec": {
   "name": "python3810jvsc74a57bd00dd71e44a40e3bff9e2fa73414ec8f9a1ed4bbd004313799300ef7fd50845337",
   "display_name": "Python 3.8.10 64-bit ('score-diff': conda)"
  },
  "language_info": {
   "codemirror_mode": {
    "name": "ipython",
    "version": 3
   },
   "file_extension": ".py",
   "mimetype": "text/x-python",
   "name": "python",
   "nbconvert_exporter": "python",
   "pygments_lexer": "ipython3",
   "version": "3.8.10"
  },
  "metadata": {
   "interpreter": {
    "hash": "0dd71e44a40e3bff9e2fa73414ec8f9a1ed4bbd004313799300ef7fd50845337"
   }
  }
 },
 "nbformat": 4,
 "nbformat_minor": 2
}